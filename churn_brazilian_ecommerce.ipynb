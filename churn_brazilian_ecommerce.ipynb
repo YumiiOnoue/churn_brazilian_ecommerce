{
 "cells": [
  {
   "cell_type": "markdown",
   "id": "e51b45c1",
   "metadata": {
    "jp-MarkdownHeadingCollapsed": true
   },
   "source": [
    "# Análise de Churn no E-commerce Brasileiro (Olist)"
   ]
  },
  {
   "cell_type": "code",
   "execution_count": 1,
   "id": "7e59920c",
   "metadata": {},
   "outputs": [],
   "source": [
    "# Importando as Bibliotecas\n",
    "import pandas as pd\n",
    "import numpy as np\n",
    "import matplotlib.pyplot as plt\n",
    "import seaborn as sns\n",
    "from datetime import datetime"
   ]
  },
  {
   "cell_type": "code",
   "execution_count": 2,
   "id": "a16fa274",
   "metadata": {
    "scrolled": true
   },
   "outputs": [],
   "source": [
    "# Carregando os dados\n",
    "orders = pd.read_csv(\"dataset/olist_orders_dataset.csv\")\n",
    "products = pd.read_csv(\"dataset/olist_products_dataset.csv\")\n",
    "customers = pd.read_csv('dataset/olist_customers_dataset.csv')\n",
    "order_items = pd.read_csv('dataset/olist_order_items_dataset.csv')\n",
    "reviews = pd.read_csv('dataset/olist_order_reviews_dataset.csv')\n",
    "payments = pd.read_csv('dataset/olist_order_payments_dataset.csv')"
   ]
  },
  {
   "cell_type": "markdown",
   "id": "0b567bc5-a4a4-4df9-92f5-eaf6fe2d47a0",
   "metadata": {
    "jp-MarkdownHeadingCollapsed": true
   },
   "source": [
    "# Limpeza dos dados"
   ]
  },
  {
   "cell_type": "code",
   "execution_count": 3,
   "id": "e939d059",
   "metadata": {},
   "outputs": [],
   "source": [
    "# Alterando strings para datas\n",
    "orders['order_purchase_timestamp'] = pd.to_datetime(orders['order_purchase_timestamp'])\n",
    "orders['order_approved_at'] = pd.to_datetime(orders['order_approved_at'])\n",
    "orders['order_delivered_carrier_date'] = pd.to_datetime(orders['order_delivered_carrier_date'])\n",
    "orders['order_delivered_customer_date'] = pd.to_datetime(orders['order_delivered_customer_date'])\n",
    "orders['order_estimated_delivery_date'] = pd.to_datetime(orders['order_estimated_delivery_date'])"
   ]
  },
  {
   "cell_type": "code",
   "execution_count": 4,
   "id": "c2dde3dd-7c71-42d6-b445-3ea7c25ac49e",
   "metadata": {},
   "outputs": [
    {
     "data": {
      "text/plain": [
       "order_id                            0\n",
       "customer_id                         0\n",
       "order_status                        0\n",
       "order_purchase_timestamp            0\n",
       "order_approved_at                 160\n",
       "order_delivered_carrier_date     1783\n",
       "order_delivered_customer_date    2965\n",
       "order_estimated_delivery_date       0\n",
       "dtype: int64"
      ]
     },
     "execution_count": 4,
     "metadata": {},
     "output_type": "execute_result"
    }
   ],
   "source": [
    "# Verificando dados ausentes\n",
    "orders.isnull().sum()"
   ]
  },
  {
   "cell_type": "code",
   "execution_count": 5,
   "id": "a5900d16-16f8-4b7b-9c82-05c379f13e03",
   "metadata": {},
   "outputs": [],
   "source": [
    "# Selecionando somente os pedidos que foram entregues\n",
    "orders = orders[orders['order_status'] == 'delivered']"
   ]
  },
  {
   "cell_type": "code",
   "execution_count": 6,
   "id": "7eeaf0ae-e441-4f5f-a46b-1ec14eef272e",
   "metadata": {},
   "outputs": [
    {
     "data": {
      "text/plain": [
       "order_id                         0\n",
       "customer_id                      0\n",
       "order_status                     0\n",
       "order_purchase_timestamp         0\n",
       "order_approved_at                0\n",
       "order_delivered_carrier_date     0\n",
       "order_delivered_customer_date    0\n",
       "order_estimated_delivery_date    0\n",
       "dtype: int64"
      ]
     },
     "execution_count": 6,
     "metadata": {},
     "output_type": "execute_result"
    }
   ],
   "source": [
    "orders = orders.dropna(subset=[\n",
    "    'order_approved_at',\n",
    "    'order_delivered_carrier_date',\n",
    "    'order_delivered_customer_date'\n",
    "])\n",
    "\n",
    "orders.isnull().sum()"
   ]
  },
  {
   "cell_type": "code",
   "execution_count": 7,
   "id": "a4972254-f5b8-429c-97b9-a809bd7b9391",
   "metadata": {},
   "outputs": [
    {
     "data": {
      "text/plain": [
       "customer_id                 0\n",
       "customer_unique_id          0\n",
       "customer_zip_code_prefix    0\n",
       "customer_city               0\n",
       "customer_state              0\n",
       "dtype: int64"
      ]
     },
     "execution_count": 7,
     "metadata": {},
     "output_type": "execute_result"
    }
   ],
   "source": [
    "customers.isnull().sum()"
   ]
  },
  {
   "cell_type": "code",
   "execution_count": 8,
   "id": "50cce36e-52bb-483f-8e5c-db76bb029979",
   "metadata": {},
   "outputs": [
    {
     "data": {
      "text/plain": [
       "order_id               0\n",
       "order_item_id          0\n",
       "product_id             0\n",
       "seller_id              0\n",
       "shipping_limit_date    0\n",
       "price                  0\n",
       "freight_value          0\n",
       "dtype: int64"
      ]
     },
     "execution_count": 8,
     "metadata": {},
     "output_type": "execute_result"
    }
   ],
   "source": [
    "order_items.isnull().sum()"
   ]
  },
  {
   "cell_type": "code",
   "execution_count": 9,
   "id": "787dd647-90ac-43de-b90c-3021398e3b36",
   "metadata": {},
   "outputs": [
    {
     "data": {
      "text/plain": [
       "review_id                      0\n",
       "order_id                       0\n",
       "review_score                   0\n",
       "review_comment_title       87656\n",
       "review_comment_message     58247\n",
       "review_creation_date           0\n",
       "review_answer_timestamp        0\n",
       "dtype: int64"
      ]
     },
     "execution_count": 9,
     "metadata": {},
     "output_type": "execute_result"
    }
   ],
   "source": [
    "reviews.isnull().sum()"
   ]
  },
  {
   "cell_type": "code",
   "execution_count": 10,
   "id": "621e301a-ee36-4695-8b30-703a716c839f",
   "metadata": {},
   "outputs": [
    {
     "data": {
      "text/plain": [
       "review_id                  0\n",
       "order_id                   0\n",
       "review_score               0\n",
       "review_creation_date       0\n",
       "review_answer_timestamp    0\n",
       "dtype: int64"
      ]
     },
     "execution_count": 10,
     "metadata": {},
     "output_type": "execute_result"
    }
   ],
   "source": [
    "# Exluindo a coluna \"review_comment_title\" e \"review_comment_message\", pois para essa análise não serão utilizadas\n",
    "reviews = reviews.drop(columns=['review_comment_title', 'review_comment_message'])\n",
    "reviews.isnull().sum()"
   ]
  },
  {
   "cell_type": "code",
   "execution_count": 11,
   "id": "5dc2c8ce-ed92-4d8e-a9fb-79480e7e3872",
   "metadata": {},
   "outputs": [
    {
     "data": {
      "text/plain": [
       "product_id                      0\n",
       "product_category_name         610\n",
       "product_name_lenght           610\n",
       "product_description_lenght    610\n",
       "product_photos_qty            610\n",
       "product_weight_g                2\n",
       "product_length_cm               2\n",
       "product_height_cm               2\n",
       "product_width_cm                2\n",
       "dtype: int64"
      ]
     },
     "execution_count": 11,
     "metadata": {},
     "output_type": "execute_result"
    }
   ],
   "source": [
    "products.isnull().sum()"
   ]
  },
  {
   "cell_type": "code",
   "execution_count": 12,
   "id": "f3576752-34e4-4bfc-8aa8-1950b0deb1e0",
   "metadata": {},
   "outputs": [
    {
     "data": {
      "text/plain": [
       "product_id                    0\n",
       "product_category_name         0\n",
       "product_name_lenght           0\n",
       "product_description_lenght    0\n",
       "product_photos_qty            0\n",
       "product_weight_g              0\n",
       "product_length_cm             0\n",
       "product_height_cm             0\n",
       "product_width_cm              0\n",
       "dtype: int64"
      ]
     },
     "execution_count": 12,
     "metadata": {},
     "output_type": "execute_result"
    }
   ],
   "source": [
    "# Preencher valores faltantes com a mediana\n",
    "products['product_weight_g'] = products['product_weight_g'].fillna(products['product_weight_g'].median())\n",
    "products['product_length_cm'] = products['product_length_cm'].fillna(products['product_length_cm'].median())\n",
    "products['product_height_cm'] = products['product_height_cm'].fillna(products['product_height_cm'].median())\n",
    "products['product_width_cm'] = products['product_width_cm'].fillna(products['product_width_cm'].median())\n",
    "products['product_name_lenght'] = products['product_name_lenght'].fillna(products['product_name_lenght'].median())\n",
    "products['product_description_lenght'] = products['product_description_lenght'].fillna(products['product_description_lenght'].median())\n",
    "products['product_photos_qty'] = products['product_photos_qty'].fillna(products['product_photos_qty'].median())\n",
    "\n",
    "# Substituindo as categorias faltantes para \"desconhecido\"\n",
    "products['product_category_name'] = products['product_category_name'].fillna('desconhecido')\n",
    "\n",
    "products.isnull().sum()"
   ]
  },
  {
   "cell_type": "code",
   "execution_count": 13,
   "id": "8459025e-c5d1-4871-8ff9-be4b6995bbe2",
   "metadata": {},
   "outputs": [
    {
     "data": {
      "text/plain": [
       "order_id                0\n",
       "payment_sequential      0\n",
       "payment_type            0\n",
       "payment_installments    0\n",
       "payment_value           0\n",
       "dtype: int64"
      ]
     },
     "execution_count": 13,
     "metadata": {},
     "output_type": "execute_result"
    }
   ],
   "source": [
    "payments.isnull().sum()"
   ]
  },
  {
   "cell_type": "markdown",
   "id": "f0fd6c6b-658a-492e-83ac-6936cbb68613",
   "metadata": {
    "jp-MarkdownHeadingCollapsed": true
   },
   "source": [
    "# Criando o DataFrame"
   ]
  },
  {
   "cell_type": "code",
   "execution_count": 14,
   "id": "60acb822-f53e-4df0-97aa-8432274a1d29",
   "metadata": {},
   "outputs": [],
   "source": [
    "# Unindo pedidos e clientes \n",
    "df = pd.merge(orders, customers, on='customer_id', how='left')\n",
    "df = pd.merge(df, payments, on='order_id', how='left')\n",
    "df = pd.merge(df, reviews[['order_id', 'review_score']], on='order_id', how='left')"
   ]
  },
  {
   "cell_type": "code",
   "execution_count": 15,
   "id": "a206efa3-1d53-429d-960f-5bac5f16da84",
   "metadata": {},
   "outputs": [
    {
     "name": "stdout",
     "output_type": "stream",
     "text": [
      "<class 'pandas.core.frame.DataFrame'>\n",
      "RangeIndex: 101303 entries, 0 to 101302\n",
      "Data columns (total 17 columns):\n",
      " #   Column                         Non-Null Count   Dtype         \n",
      "---  ------                         --------------   -----         \n",
      " 0   order_id                       101303 non-null  object        \n",
      " 1   customer_id                    101303 non-null  object        \n",
      " 2   order_status                   101303 non-null  object        \n",
      " 3   order_purchase_timestamp       101303 non-null  datetime64[ns]\n",
      " 4   order_approved_at              101303 non-null  datetime64[ns]\n",
      " 5   order_delivered_carrier_date   101303 non-null  datetime64[ns]\n",
      " 6   order_delivered_customer_date  101303 non-null  datetime64[ns]\n",
      " 7   order_estimated_delivery_date  101303 non-null  datetime64[ns]\n",
      " 8   customer_unique_id             101303 non-null  object        \n",
      " 9   customer_zip_code_prefix       101303 non-null  int64         \n",
      " 10  customer_city                  101303 non-null  object        \n",
      " 11  customer_state                 101303 non-null  object        \n",
      " 12  payment_sequential             101302 non-null  float64       \n",
      " 13  payment_type                   101302 non-null  object        \n",
      " 14  payment_installments           101302 non-null  float64       \n",
      " 15  payment_value                  101302 non-null  float64       \n",
      " 16  review_score                   100627 non-null  float64       \n",
      "dtypes: datetime64[ns](5), float64(4), int64(1), object(7)\n",
      "memory usage: 13.1+ MB\n"
     ]
    }
   ],
   "source": [
    "df.info()"
   ]
  },
  {
   "cell_type": "code",
   "execution_count": 16,
   "id": "9061ecdd-7021-4e05-b2b2-9e8215024d92",
   "metadata": {},
   "outputs": [
    {
     "name": "stdout",
     "output_type": "stream",
     "text": [
      "360\n"
     ]
    }
   ],
   "source": [
    "print(df.duplicated().sum())"
   ]
  },
  {
   "cell_type": "code",
   "execution_count": 17,
   "id": "c5ced9fc-5da8-426c-99c4-5e48dcf94d11",
   "metadata": {},
   "outputs": [
    {
     "name": "stdout",
     "output_type": "stream",
     "text": [
      "0\n"
     ]
    }
   ],
   "source": [
    "df.drop_duplicates(inplace=True)\n",
    "print(df.duplicated().sum())"
   ]
  },
  {
   "cell_type": "code",
   "execution_count": 18,
   "id": "8cc7c711-67d4-49a3-af9c-bc19ede3f6d9",
   "metadata": {},
   "outputs": [
    {
     "data": {
      "text/plain": [
       "Index(['order_id', 'customer_id', 'order_status', 'order_purchase_timestamp',\n",
       "       'order_approved_at', 'order_delivered_carrier_date',\n",
       "       'order_delivered_customer_date', 'order_estimated_delivery_date',\n",
       "       'customer_unique_id', 'customer_zip_code_prefix', 'customer_city',\n",
       "       'customer_state', 'payment_sequential', 'payment_type',\n",
       "       'payment_installments', 'payment_value', 'review_score'],\n",
       "      dtype='object')"
      ]
     },
     "execution_count": 18,
     "metadata": {},
     "output_type": "execute_result"
    }
   ],
   "source": [
    "df.columns"
   ]
  },
  {
   "cell_type": "markdown",
   "id": "9e4a5e23-62b8-4b0e-aabb-122cdf7dc40b",
   "metadata": {},
   "source": [
    "# Feature Engineering"
   ]
  },
  {
   "cell_type": "code",
   "execution_count": 19,
   "id": "2a6e64b2-a5c9-4b5b-9c0a-2acfc0599bc7",
   "metadata": {},
   "outputs": [],
   "source": [
    "# Número total de pedidos por cliente\n",
    "pedidos_por_cliente = (\n",
    "    df\n",
    "    .groupby('customer_unique_id')['order_id']\n",
    "    .nunique()\n",
    ")"
   ]
  },
  {
   "cell_type": "code",
   "execution_count": 20,
   "id": "7eb339f3-90a7-44c4-8d5c-f6f965f9b1fd",
   "metadata": {},
   "outputs": [],
   "source": [
    "# Última data de compra por cliente\n",
    "compra_cliente = df.groupby('customer_unique_id').agg({'order_purchase_timestamp': ['min', 'max', 'count']}).reset_index()\n",
    "compra_cliente.columns = ['customer_unique_id', 'primeira_compra', 'ultima_compra', 'qtde_pedidos']"
   ]
  },
  {
   "cell_type": "code",
   "execution_count": 21,
   "id": "4ac77de4-53a7-46f1-8412-b92d09f6bb25",
   "metadata": {},
   "outputs": [],
   "source": [
    "# Tempo entre o primeiro e o último pedido\n",
    "data_final = df['order_purchase_timestamp'].max()\n",
    "compra_cliente['dias_desde_ultima_compra'] = (data_final - compra_cliente['ultima_compra']).dt.days"
   ]
  },
  {
   "cell_type": "code",
   "execution_count": 23,
   "id": "8bdcc8d2-9010-446f-bbbd-9c3be60ab657",
   "metadata": {},
   "outputs": [],
   "source": [
    "# Frequência média de compra"
   ]
  },
  {
   "cell_type": "code",
   "execution_count": 24,
   "id": "36daf977-b9a4-4e7e-bf83-459549b916e7",
   "metadata": {},
   "outputs": [],
   "source": [
    "# Valor total gasto"
   ]
  },
  {
   "cell_type": "code",
   "execution_count": 25,
   "id": "aa0ebb86-7959-44f9-b979-fa5db37ceb24",
   "metadata": {},
   "outputs": [],
   "source": [
    "# Nota média de avaliação"
   ]
  },
  {
   "cell_type": "markdown",
   "id": "4948c4ca-b23f-4981-84cb-16d03dfcf164",
   "metadata": {},
   "source": [
    "# Cálculo do Churn"
   ]
  },
  {
   "cell_type": "code",
   "execution_count": 26,
   "id": "3fff7cef-a1dd-4bdd-b265-bc6b44f8865e",
   "metadata": {},
   "outputs": [],
   "source": [
    "# Definindo quais clientes não pediu nos últimos 180 dias\n",
    "compra_cliente['churn'] = compra_cliente['dias_desde_ultima_compra'].apply(lambda x: 1 if x > 180 else 0)"
   ]
  },
  {
   "cell_type": "code",
   "execution_count": 32,
   "id": "7911c816-4f80-4ab7-907f-eeee28a81640",
   "metadata": {},
   "outputs": [
    {
     "name": "stdout",
     "output_type": "stream",
     "text": [
      "Taxa de Churn: 58.92%\n"
     ]
    }
   ],
   "source": [
    "taxa_churn = compra_cliente['churn'].mean()\n",
    "print(f\"Taxa de Churn: {taxa_churn:.2%}\")"
   ]
  },
  {
   "cell_type": "code",
   "execution_count": null,
   "id": "9ac31daa-73ca-4a51-8814-20f8a33c4bb0",
   "metadata": {},
   "outputs": [],
   "source": [
    "# Distribuição do churn por:\n",
    "# Região geográfica.\n",
    "\n"
   ]
  },
  {
   "cell_type": "code",
   "execution_count": null,
   "id": "8a041343-e7dd-4a8d-9189-07f4c4ddadc4",
   "metadata": {},
   "outputs": [],
   "source": [
    "# Categoria de produto."
   ]
  },
  {
   "cell_type": "code",
   "execution_count": null,
   "id": "8bbc0d05-e890-42d9-86d9-e3998a2d20c6",
   "metadata": {},
   "outputs": [],
   "source": [
    "# Valor gasto.\n"
   ]
  },
  {
   "cell_type": "code",
   "execution_count": null,
   "id": "65bfa3c1-b1a3-4fc9-8783-e3d5b1c406b0",
   "metadata": {},
   "outputs": [],
   "source": [
    "# Tempo de entrega.\n"
   ]
  },
  {
   "cell_type": "markdown",
   "id": "41d8057b-600b-4ee6-9196-2e49237e7407",
   "metadata": {},
   "source": [
    "# Análise Gráfica"
   ]
  },
  {
   "cell_type": "code",
   "execution_count": 27,
   "id": "c7b386fb-41d6-4ba9-a059-34cdb6042043",
   "metadata": {},
   "outputs": [
    {
     "data": {
      "image/png": "[encoded data removed]",
      "text/plain": [
       "<Figure size 640x480 with 1 Axes>"
      ]
     },
     "metadata": {},
     "output_type": "display_data"
    }
   ],
   "source": [
    "# Quantidade de clientes ativos e Churn\n",
    "sns.countplot(x='churn', data=compra_cliente)\n",
    "plt.title('Quantidade de Clientes Ativos e Churn')\n",
    "plt.xticks([0, 1], ['Ativos', 'Churn'])\n",
    "plt.ylabel('Número de Clientes')\n",
    "plt.show()"
   ]
  },
  {
   "cell_type": "code",
   "execution_count": 28,
   "id": "ff04900a-9802-4b47-a81a-4d8aa1a7934a",
   "metadata": {},
   "outputs": [
    {
     "data": {
      "image/png": "[encoded data removed]",
      "text/plain": [
       "<Figure size 640x480 with 1 Axes>"
      ]
     },
     "metadata": {},
     "output_type": "display_data"
    }
   ],
   "source": [
    "# Quantidade de pedidos e churn\n",
    "sns.boxplot(x='churn', y='qtde_pedidos', data=compra_cliente)\n",
    "plt.title('Churn vs Quantidade de Pedidos')\n",
    "plt.xticks([0, 1], ['Ativos', 'Churn'])\n",
    "plt.show()"
   ]
  },
  {
   "cell_type": "code",
   "execution_count": null,
   "id": "dda6e5cf-83a3-4f87-b42c-7c7c78895ce2",
   "metadata": {},
   "outputs": [],
   "source": []
  },
  {
   "cell_type": "code",
   "execution_count": null,
   "id": "5546835f-9f0c-40b1-a482-d7402ed7c45e",
   "metadata": {},
   "outputs": [],
   "source": []
  }
 ],
 "metadata": {
  "kernelspec": {
   "display_name": "Python 3 (ipykernel)",
   "language": "python",
   "name": "python3"
  },
  "language_info": {
   "codemirror_mode": {
    "name": "ipython",
    "version": 3
   },
   "file_extension": ".py",
   "mimetype": "text/x-python",
   "name": "python",
   "nbconvert_exporter": "python",
   "pygments_lexer": "ipython3",
   "version": "3.12.11"
  }
 },
 "nbformat": 4,
 "nbformat_minor": 5
}
